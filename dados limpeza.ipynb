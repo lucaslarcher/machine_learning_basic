{
 "cells": [
  {
   "cell_type": "code",
   "execution_count": null,
   "id": "cc1c2cac-b0fe-4137-8992-dfacb9e745eb",
   "metadata": {},
   "outputs": [],
   "source": [
    "df.dropna() # removes onli lines with null\n",
    "df.drop() \n",
    "df.fillna() "
   ]
  },
  {
   "cell_type": "code",
   "execution_count": null,
   "id": "b1eeca09-157b-4c79-81f1-b3787a48e7cb",
   "metadata": {},
   "outputs": [],
   "source": []
  },
  {
   "cell_type": "code",
   "execution_count": null,
   "id": "fc4e1b60-91f1-4ede-9688-3820e407634a",
   "metadata": {},
   "outputs": [],
   "source": []
  },
  {
   "cell_type": "code",
   "execution_count": null,
   "id": "2b697f71-4878-4f51-a39e-f33f27989228",
   "metadata": {},
   "outputs": [],
   "source": []
  }
 ],
 "metadata": {
  "kernelspec": {
   "display_name": "Python 3 (ipykernel)",
   "language": "python",
   "name": "python3"
  },
  "language_info": {
   "codemirror_mode": {
    "name": "ipython",
    "version": 3
   },
   "file_extension": ".py",
   "mimetype": "text/x-python",
   "name": "python",
   "nbconvert_exporter": "python",
   "pygments_lexer": "ipython3",
   "version": "3.9.18"
  }
 },
 "nbformat": 4,
 "nbformat_minor": 5
}
